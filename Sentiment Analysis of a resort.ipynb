{
 "cells": [
  {
   "cell_type": "code",
   "execution_count": 3,
   "id": "42c3fdb3",
   "metadata": {},
   "outputs": [
    {
     "name": "stdout",
     "output_type": "stream",
     "text": [
      "Collecting NLTK\n",
      "  Downloading nltk-3.7-py3-none-any.whl (1.5 MB)\n",
      "     ---------------------------------------- 1.5/1.5 MB 3.5 MB/s eta 0:00:00\n",
      "Requirement already satisfied: tqdm in c:\\users\\aruna\\appdata\\local\\programs\\python\\python310\\lib\\site-packages (from NLTK) (4.64.0)\n",
      "Collecting regex>=2021.8.3\n",
      "  Downloading regex-2022.7.25-cp310-cp310-win_amd64.whl (262 kB)\n",
      "     ------------------------------------- 262.7/262.7 kB 16.8 MB/s eta 0:00:00\n",
      "Requirement already satisfied: click in c:\\users\\aruna\\appdata\\local\\programs\\python\\python310\\lib\\site-packages (from NLTK) (8.0.3)\n",
      "Requirement already satisfied: joblib in c:\\users\\aruna\\appdata\\local\\programs\\python\\python310\\lib\\site-packages (from NLTK) (1.1.0)\n",
      "Requirement already satisfied: colorama in c:\\users\\aruna\\appdata\\local\\programs\\python\\python310\\lib\\site-packages (from click->NLTK) (0.4.4)\n",
      "Installing collected packages: regex, NLTK\n",
      "Successfully installed NLTK-3.7 regex-2022.7.25\n",
      "Note: you may need to restart the kernel to use updated packages.\n"
     ]
    }
   ],
   "source": [
    "pip install NLTK"
   ]
  },
  {
   "cell_type": "code",
   "execution_count": 27,
   "id": "08209712",
   "metadata": {},
   "outputs": [],
   "source": [
    "import pandas as pd\n",
    "import nltk\n",
    "import nltk\n",
    "#nltk.downloader.download('vader_lexicon')\n",
    "from nltk.sentiment import SentimentAnalyzer"
   ]
  },
  {
   "cell_type": "code",
   "execution_count": 28,
   "id": "c40b4c98",
   "metadata": {},
   "outputs": [],
   "source": [
    "from nltk.sentiment.vader import SentimentIntensityAnalyzer"
   ]
  },
  {
   "cell_type": "code",
   "execution_count": 45,
   "id": "ebb80d93",
   "metadata": {},
   "outputs": [
    {
     "data": {
      "text/html": [
       "<div><div id=0dcd5875-856f-476a-b6d5-29709aacd2c0 style=\"display:none; background-color:#9D6CFF; color:white; width:200px; height:30px; padding-left:5px; border-radius:4px; flex-direction:row; justify-content:space-around; align-items:center;\" onmouseover=\"this.style.backgroundColor='#BA9BF8'\" onmouseout=\"this.style.backgroundColor='#9D6CFF'\" onclick=\"window.commands?.execute('create-mitosheet-from-dataframe-output');\">See Full Dataframe in Mito</div> <script> if (window.commands?.hasCommand('create-mitosheet-from-dataframe-output')) document.getElementById('0dcd5875-856f-476a-b6d5-29709aacd2c0').style.display = 'flex' </script> <table border=\"1\" class=\"dataframe\">\n",
       "  <thead>\n",
       "    <tr style=\"text-align: right;\">\n",
       "      <th></th>\n",
       "      <th>Review</th>\n",
       "      <th>date</th>\n",
       "      <th>Location</th>\n",
       "    </tr>\n",
       "  </thead>\n",
       "  <tbody>\n",
       "    <tr>\n",
       "      <th>0</th>\n",
       "      <td>I was very impressed with the resort.\\n Great staff at the main resort pool bar! We had a blast with them.\\n Clean, professional staff, great location and very reasonable!\\n  \\n  Read more\\n  Read less</td>\n",
       "      <td>2019/08/20</td>\n",
       "      <td>Sebastian</td>\n",
       "    </tr>\n",
       "    <tr>\n",
       "      <th>1</th>\n",
       "      <td>The rooms were nice the outside needs work also no free breakfast it would have been nice overall it was ok\\n  \\n  Read more\\n  Read less</td>\n",
       "      <td>2019/08/20</td>\n",
       "      <td>Los Angeles</td>\n",
       "    </tr>\n",
       "    <tr>\n",
       "      <th>2</th>\n",
       "      <td>Great location! I have stayed at this hotel on my last three trips to New York.\\n  \\n  Read more\\n  Read less</td>\n",
       "      <td>2019/08/20</td>\n",
       "      <td>Georgia</td>\n",
       "    </tr>\n",
       "    <tr>\n",
       "      <th>3</th>\n",
       "      <td>The hotel was adequate for my stay. The strips in the bathtub were useless as I fell while taking a shower. I asked the front desk staff several times to get a bath mat but they never did. Management was unresponsive to my request which was very poor; someone should have gone to a dollar store and gotten a bath mat. Breakfast was good but it would have been nice to have had yogurt and/or cottage cheese on the buffet.\\n  \\n  Read more\\n  Read less</td>\n",
       "      <td>2019/08/20</td>\n",
       "      <td>NaN</td>\n",
       "    </tr>\n",
       "    <tr>\n",
       "      <th>4</th>\n",
       "      <td>Great location, room was large and spacious. Parking was easy and we appreciated the friendly staff\\n  \\n  Read more\\n  Read less</td>\n",
       "      <td>2019/08/19</td>\n",
       "      <td>Palm Harbor</td>\n",
       "    </tr>\n",
       "  </tbody>\n",
       "</table></div>"
      ],
      "text/plain": [
       "                                              Review        date     Location\n",
       "0  I was very impressed with the resort.\\n Great ...  2019/08/20    Sebastian\n",
       "1  The rooms were nice the outside needs work als...  2019/08/20  Los Angeles\n",
       "2  Great location! I have stayed at this hotel on...  2019/08/20      Georgia\n",
       "3  The hotel was adequate for my stay. The strips...  2019/08/20          NaN\n",
       "4  Great location, room was large and spacious. P...  2019/08/19  Palm Harbor"
      ]
     },
     "execution_count": 45,
     "metadata": {},
     "output_type": "execute_result"
    }
   ],
   "source": [
    "review=pd.read_csv(\"Data Analyst - Test Data - US.csv\")\n",
    "review.head()"
   ]
  },
  {
   "cell_type": "code",
   "execution_count": 39,
   "id": "f5c91267",
   "metadata": {},
   "outputs": [
    {
     "data": {
      "text/plain": [
       "0       I was very impressed with the resort.\\n Great ...\n",
       "1       The rooms were nice the outside needs work als...\n",
       "2       Great location! I have stayed at this hotel on...\n",
       "3       The hotel was adequate for my stay. The strips...\n",
       "4       Great location, room was large and spacious. P...\n",
       "                              ...                        \n",
       "6443    ·the staff were all so friendly. frank, the ch...\n",
       "6444           ·the internet barely worked or didn't work\n",
       "6445    ·the location was great.\\n \\n \\n \\n \\n ·the be...\n",
       "6446    ·we were early for check in and the staff was ...\n",
       "6447    ·staff, free coffee, location and activities.\\...\n",
       "Name: Review, Length: 6448, dtype: object"
      ]
     },
     "execution_count": 39,
     "metadata": {},
     "output_type": "execute_result"
    }
   ],
   "source": [
    "review['Review']"
   ]
  },
  {
   "cell_type": "code",
   "execution_count": 42,
   "id": "d6f1496f",
   "metadata": {},
   "outputs": [
    {
     "data": {
      "text/plain": [
       "0    I was very impressed with the resort.\\n Great ...\n",
       "1    The rooms were nice the outside needs work als...\n",
       "2    Great location! I have stayed at this hotel on...\n",
       "3    The hotel was adequate for my stay. The strips...\n",
       "4    Great location, room was large and spacious. P...\n",
       "Name: Review, dtype: object"
      ]
     },
     "execution_count": 42,
     "metadata": {},
     "output_type": "execute_result"
    }
   ],
   "source": [
    "df= review['Review']\n",
    "df.head()"
   ]
  },
  {
   "cell_type": "code",
   "execution_count": 48,
   "id": "9be39a2d",
   "metadata": {},
   "outputs": [],
   "source": [
    "sia=SentimentIntensityAnalyzer()"
   ]
  },
  {
   "cell_type": "code",
   "execution_count": 51,
   "id": "1f29a7de",
   "metadata": {},
   "outputs": [],
   "source": [
    "review['neg'] = review['Review'].apply(lambda x:sia.polarity_scores(str(x))['neg'])\n",
    "review['neu'] = review['Review'].apply(lambda x:sia.polarity_scores(str(x))['neu'])\n",
    "\n",
    "review['pos'] = review['Review'].apply(lambda x:sia.polarity_scores(str(x))['pos'])\n",
    "\n",
    "review['compound'] = review['Review'].apply(lambda x:sia.polarity_scores(str(x))['compound'])\n"
   ]
  },
  {
   "cell_type": "code",
   "execution_count": 52,
   "id": "57df257a",
   "metadata": {},
   "outputs": [
    {
     "data": {
      "text/html": [
       "<div><div id=023b1af8-70e9-433f-bb8b-1767cda96385 style=\"display:none; background-color:#9D6CFF; color:white; width:200px; height:30px; padding-left:5px; border-radius:4px; flex-direction:row; justify-content:space-around; align-items:center;\" onmouseover=\"this.style.backgroundColor='#BA9BF8'\" onmouseout=\"this.style.backgroundColor='#9D6CFF'\" onclick=\"window.commands?.execute('create-mitosheet-from-dataframe-output');\">See Full Dataframe in Mito</div> <script> if (window.commands?.hasCommand('create-mitosheet-from-dataframe-output')) document.getElementById('023b1af8-70e9-433f-bb8b-1767cda96385').style.display = 'flex' </script> <table border=\"1\" class=\"dataframe\">\n",
       "  <thead>\n",
       "    <tr style=\"text-align: right;\">\n",
       "      <th></th>\n",
       "      <th>Review</th>\n",
       "      <th>date</th>\n",
       "      <th>Location</th>\n",
       "      <th>neg</th>\n",
       "      <th>neu</th>\n",
       "      <th>pos</th>\n",
       "      <th>compound</th>\n",
       "    </tr>\n",
       "  </thead>\n",
       "  <tbody>\n",
       "    <tr>\n",
       "      <th>0</th>\n",
       "      <td>I was very impressed with the resort.\\n Great staff at the main resort pool bar! We had a blast with them.\\n Clean, professional staff, great location and very reasonable!\\n  \\n  Read more\\n  Read less</td>\n",
       "      <td>2019/08/20</td>\n",
       "      <td>Sebastian</td>\n",
       "      <td>0.000</td>\n",
       "      <td>0.645</td>\n",
       "      <td>0.355</td>\n",
       "      <td>0.9421</td>\n",
       "    </tr>\n",
       "    <tr>\n",
       "      <th>1</th>\n",
       "      <td>The rooms were nice the outside needs work also no free breakfast it would have been nice overall it was ok\\n  \\n  Read more\\n  Read less</td>\n",
       "      <td>2019/08/20</td>\n",
       "      <td>Los Angeles</td>\n",
       "      <td>0.066</td>\n",
       "      <td>0.601</td>\n",
       "      <td>0.333</td>\n",
       "      <td>0.8360</td>\n",
       "    </tr>\n",
       "    <tr>\n",
       "      <th>2</th>\n",
       "      <td>Great location! I have stayed at this hotel on my last three trips to New York.\\n  \\n  Read more\\n  Read less</td>\n",
       "      <td>2019/08/20</td>\n",
       "      <td>Georgia</td>\n",
       "      <td>0.000</td>\n",
       "      <td>0.804</td>\n",
       "      <td>0.196</td>\n",
       "      <td>0.6588</td>\n",
       "    </tr>\n",
       "    <tr>\n",
       "      <th>3</th>\n",
       "      <td>The hotel was adequate for my stay. The strips in the bathtub were useless as I fell while taking a shower. I asked the front desk staff several times to get a bath mat but they never did. Management was unresponsive to my request which was very poor; someone should have gone to a dollar store and gotten a bath mat. Breakfast was good but it would have been nice to have had yogurt and/or cottage cheese on the buffet.\\n  \\n  Read more\\n  Read less</td>\n",
       "      <td>2019/08/20</td>\n",
       "      <td>NaN</td>\n",
       "      <td>0.073</td>\n",
       "      <td>0.825</td>\n",
       "      <td>0.102</td>\n",
       "      <td>0.3634</td>\n",
       "    </tr>\n",
       "    <tr>\n",
       "      <th>4</th>\n",
       "      <td>Great location, room was large and spacious. Parking was easy and we appreciated the friendly staff\\n  \\n  Read more\\n  Read less</td>\n",
       "      <td>2019/08/19</td>\n",
       "      <td>Palm Harbor</td>\n",
       "      <td>0.000</td>\n",
       "      <td>0.542</td>\n",
       "      <td>0.458</td>\n",
       "      <td>0.9260</td>\n",
       "    </tr>\n",
       "  </tbody>\n",
       "</table></div>"
      ],
      "text/plain": [
       "                                              Review        date     Location  \\\n",
       "0  I was very impressed with the resort.\\n Great ...  2019/08/20    Sebastian   \n",
       "1  The rooms were nice the outside needs work als...  2019/08/20  Los Angeles   \n",
       "2  Great location! I have stayed at this hotel on...  2019/08/20      Georgia   \n",
       "3  The hotel was adequate for my stay. The strips...  2019/08/20          NaN   \n",
       "4  Great location, room was large and spacious. P...  2019/08/19  Palm Harbor   \n",
       "\n",
       "     neg    neu    pos  compound  \n",
       "0  0.000  0.645  0.355    0.9421  \n",
       "1  0.066  0.601  0.333    0.8360  \n",
       "2  0.000  0.804  0.196    0.6588  \n",
       "3  0.073  0.825  0.102    0.3634  \n",
       "4  0.000  0.542  0.458    0.9260  "
      ]
     },
     "execution_count": 52,
     "metadata": {},
     "output_type": "execute_result"
    }
   ],
   "source": [
    "review.head()"
   ]
  },
  {
   "cell_type": "code",
   "execution_count": 53,
   "id": "3f1129df",
   "metadata": {},
   "outputs": [],
   "source": [
    "pos_review = [j for i,j in enumerate(review['Review']) if review['compound'][i] >0.2]\n",
    "neu_review = [j for i,j in enumerate(review['Review']) if 0.2>=review['compound'][i] >=-0.2]\n",
    "neg_review = [j for i,j in enumerate(review['Review']) if review['compound'][i] < -0.2]\n"
   ]
  },
  {
   "cell_type": "code",
   "execution_count": null,
   "id": "ef262b17",
   "metadata": {},
   "outputs": [],
   "source": [
    ".format(len(pos_review)*100/len(review['Review']))"
   ]
  },
  {
   "cell_type": "code",
   "execution_count": 55,
   "id": "acfb9a8d",
   "metadata": {},
   "outputs": [
    {
     "name": "stdout",
     "output_type": "stream",
     "text": [
      "Percentage of positive review: 66.02047146401985%\n",
      "Percentage of neutral review: 16.87344913151365%\n",
      "Percentage of negative review: 17.106079404466502%\n"
     ]
    }
   ],
   "source": [
    "print(\"Percentage of positive review: {}%\".format(len(pos_review)*100/len(review['Review'])))\n",
    "print(\"Percentage of neutral review: {}%\".format(len(neu_review)*100/len(review['Review'])))\n",
    "print(\"Percentage of negative review: {}%\".format(len(neg_review)*100/len(review['Review'])))\n"
   ]
  },
  {
   "cell_type": "code",
   "execution_count": null,
   "id": "5d91dcb0",
   "metadata": {},
   "outputs": [],
   "source": []
  },
  {
   "cell_type": "code",
   "execution_count": null,
   "id": "bdec2963",
   "metadata": {},
   "outputs": [],
   "source": []
  }
 ],
 "metadata": {
  "kernelspec": {
   "display_name": "Python 3 (ipykernel)",
   "language": "python",
   "name": "python3"
  },
  "language_info": {
   "codemirror_mode": {
    "name": "ipython",
    "version": 3
   },
   "file_extension": ".py",
   "mimetype": "text/x-python",
   "name": "python",
   "nbconvert_exporter": "python",
   "pygments_lexer": "ipython3",
   "version": "3.10.0"
  }
 },
 "nbformat": 4,
 "nbformat_minor": 5
}
